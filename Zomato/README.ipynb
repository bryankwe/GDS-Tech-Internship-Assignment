{
 "cells": [
  {
   "cell_type": "markdown",
   "metadata": {},
   "source": [
    "# README\n",
    "\n",
    "## Instructions to Run Source Code\n",
    "\n",
    "Foreseeable Issue: Library was not installed. If so, simply <code>pip install</code> relevant libraries\n",
    "\n",
    "## Deployment using Cloud Services\n",
    "\n",
    "- Platform as a Service (PAAS): Ability to focus on developing the code for application, rather than spending time on the server, etc."
   ]
  }
 ],
 "metadata": {
  "kernelspec": {
   "display_name": "Python 3.9.6 64-bit",
   "language": "python",
   "name": "python3"
  },
  "language_info": {
   "name": "python",
   "version": "3.9.6"
  },
  "orig_nbformat": 4,
  "vscode": {
   "interpreter": {
    "hash": "649c1f9431116acc6a90b47e81a5669102a6f3bdafb6ad911da8f571fa569633"
   }
  }
 },
 "nbformat": 4,
 "nbformat_minor": 2
}
